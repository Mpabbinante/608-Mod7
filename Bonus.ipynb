{
 "cells": [
  {
   "cell_type": "raw",
   "id": "0f39afe5-f9c1-498e-9e53-9e228ad78722",
   "metadata": {},
   "source": [
    "Saint Charles County population growth"
   ]
  },
  {
   "cell_type": "code",
   "execution_count": 1,
   "id": "16389fb4-df81-46fb-9006-1d3c3584cf9b",
   "metadata": {},
   "outputs": [],
   "source": [
    "import pandas as pd"
   ]
  },
  {
   "cell_type": "code",
   "execution_count": 2,
   "id": "e7ff9df6-51f7-4ef0-aa36-3fe6edfade50",
   "metadata": {},
   "outputs": [],
   "source": [
    "Stc = pd.read_csv('saintcharlescountypopulationData.csv')"
   ]
  },
  {
   "cell_type": "code",
   "execution_count": 3,
   "id": "656edb8f-baff-420e-bf92-f2aef1d0b51d",
   "metadata": {},
   "outputs": [],
   "source": [
    "pd.set_option('display.precision',2)"
   ]
  },
  {
   "cell_type": "code",
   "execution_count": 4,
   "id": "e822ae52-664f-49a6-adb3-1014f6ffd663",
   "metadata": {},
   "outputs": [],
   "source": [
    "Stcr=Stc.reindex(index=Stc.index[::-1])"
   ]
  },
  {
   "cell_type": "code",
   "execution_count": 5,
   "id": "17bffa15-7723-442a-8f81-96bc4d1d81e6",
   "metadata": {},
   "outputs": [
    {
     "data": {
      "text/html": [
       "<div>\n",
       "<style scoped>\n",
       "    .dataframe tbody tr th:only-of-type {\n",
       "        vertical-align: middle;\n",
       "    }\n",
       "\n",
       "    .dataframe tbody tr th {\n",
       "        vertical-align: top;\n",
       "    }\n",
       "\n",
       "    .dataframe thead th {\n",
       "        text-align: right;\n",
       "    }\n",
       "</style>\n",
       "<table border=\"1\" class=\"dataframe\">\n",
       "  <thead>\n",
       "    <tr style=\"text-align: right;\">\n",
       "      <th></th>\n",
       "      <th>Year</th>\n",
       "      <th>Population</th>\n",
       "      <th>Growth</th>\n",
       "      <th>GrowthRate</th>\n",
       "    </tr>\n",
       "  </thead>\n",
       "  <tbody>\n",
       "    <tr>\n",
       "      <th>31</th>\n",
       "      <td>1810</td>\n",
       "      <td>3505</td>\n",
       "      <td>0</td>\n",
       "      <td>0.00e+00</td>\n",
       "    </tr>\n",
       "    <tr>\n",
       "      <th>30</th>\n",
       "      <td>1820</td>\n",
       "      <td>3970</td>\n",
       "      <td>465</td>\n",
       "      <td>1.33e-01</td>\n",
       "    </tr>\n",
       "    <tr>\n",
       "      <th>29</th>\n",
       "      <td>1830</td>\n",
       "      <td>4320</td>\n",
       "      <td>350</td>\n",
       "      <td>8.82e-02</td>\n",
       "    </tr>\n",
       "    <tr>\n",
       "      <th>28</th>\n",
       "      <td>1840</td>\n",
       "      <td>7911</td>\n",
       "      <td>3591</td>\n",
       "      <td>8.31e-01</td>\n",
       "    </tr>\n",
       "    <tr>\n",
       "      <th>27</th>\n",
       "      <td>1850</td>\n",
       "      <td>11454</td>\n",
       "      <td>3543</td>\n",
       "      <td>4.48e-01</td>\n",
       "    </tr>\n",
       "    <tr>\n",
       "      <th>26</th>\n",
       "      <td>1860</td>\n",
       "      <td>16523</td>\n",
       "      <td>5069</td>\n",
       "      <td>4.43e-01</td>\n",
       "    </tr>\n",
       "    <tr>\n",
       "      <th>25</th>\n",
       "      <td>1870</td>\n",
       "      <td>21304</td>\n",
       "      <td>4781</td>\n",
       "      <td>2.89e-01</td>\n",
       "    </tr>\n",
       "    <tr>\n",
       "      <th>24</th>\n",
       "      <td>1880</td>\n",
       "      <td>23065</td>\n",
       "      <td>1761</td>\n",
       "      <td>8.27e-02</td>\n",
       "    </tr>\n",
       "    <tr>\n",
       "      <th>23</th>\n",
       "      <td>1890</td>\n",
       "      <td>22977</td>\n",
       "      <td>-88</td>\n",
       "      <td>-3.80e-03</td>\n",
       "    </tr>\n",
       "    <tr>\n",
       "      <th>22</th>\n",
       "      <td>1900</td>\n",
       "      <td>24474</td>\n",
       "      <td>1497</td>\n",
       "      <td>6.52e-02</td>\n",
       "    </tr>\n",
       "    <tr>\n",
       "      <th>21</th>\n",
       "      <td>1910</td>\n",
       "      <td>24695</td>\n",
       "      <td>221</td>\n",
       "      <td>9.00e-03</td>\n",
       "    </tr>\n",
       "    <tr>\n",
       "      <th>20</th>\n",
       "      <td>1920</td>\n",
       "      <td>22828</td>\n",
       "      <td>-1867</td>\n",
       "      <td>-7.56e-02</td>\n",
       "    </tr>\n",
       "    <tr>\n",
       "      <th>19</th>\n",
       "      <td>1930</td>\n",
       "      <td>24354</td>\n",
       "      <td>1526</td>\n",
       "      <td>6.68e-02</td>\n",
       "    </tr>\n",
       "    <tr>\n",
       "      <th>18</th>\n",
       "      <td>1940</td>\n",
       "      <td>25562</td>\n",
       "      <td>1208</td>\n",
       "      <td>4.96e-02</td>\n",
       "    </tr>\n",
       "    <tr>\n",
       "      <th>17</th>\n",
       "      <td>1950</td>\n",
       "      <td>29834</td>\n",
       "      <td>4272</td>\n",
       "      <td>1.67e-01</td>\n",
       "    </tr>\n",
       "    <tr>\n",
       "      <th>16</th>\n",
       "      <td>1960</td>\n",
       "      <td>52970</td>\n",
       "      <td>23136</td>\n",
       "      <td>7.75e-01</td>\n",
       "    </tr>\n",
       "    <tr>\n",
       "      <th>15</th>\n",
       "      <td>1970</td>\n",
       "      <td>92954</td>\n",
       "      <td>39984</td>\n",
       "      <td>7.55e-01</td>\n",
       "    </tr>\n",
       "    <tr>\n",
       "      <th>14</th>\n",
       "      <td>1980</td>\n",
       "      <td>144107</td>\n",
       "      <td>51153</td>\n",
       "      <td>5.50e-01</td>\n",
       "    </tr>\n",
       "    <tr>\n",
       "      <th>13</th>\n",
       "      <td>1990</td>\n",
       "      <td>212907</td>\n",
       "      <td>68800</td>\n",
       "      <td>4.77e-01</td>\n",
       "    </tr>\n",
       "    <tr>\n",
       "      <th>12</th>\n",
       "      <td>2010</td>\n",
       "      <td>361803</td>\n",
       "      <td>148896</td>\n",
       "      <td>6.99e-01</td>\n",
       "    </tr>\n",
       "    <tr>\n",
       "      <th>11</th>\n",
       "      <td>2011</td>\n",
       "      <td>365582</td>\n",
       "      <td>3779</td>\n",
       "      <td>1.04e-02</td>\n",
       "    </tr>\n",
       "    <tr>\n",
       "      <th>10</th>\n",
       "      <td>2012</td>\n",
       "      <td>369111</td>\n",
       "      <td>3529</td>\n",
       "      <td>9.70e-03</td>\n",
       "    </tr>\n",
       "    <tr>\n",
       "      <th>9</th>\n",
       "      <td>2013</td>\n",
       "      <td>374288</td>\n",
       "      <td>5177</td>\n",
       "      <td>1.40e-02</td>\n",
       "    </tr>\n",
       "    <tr>\n",
       "      <th>8</th>\n",
       "      <td>2014</td>\n",
       "      <td>379844</td>\n",
       "      <td>5556</td>\n",
       "      <td>1.48e-02</td>\n",
       "    </tr>\n",
       "    <tr>\n",
       "      <th>7</th>\n",
       "      <td>2015</td>\n",
       "      <td>384978</td>\n",
       "      <td>5134</td>\n",
       "      <td>1.35e-02</td>\n",
       "    </tr>\n",
       "    <tr>\n",
       "      <th>6</th>\n",
       "      <td>2016</td>\n",
       "      <td>390541</td>\n",
       "      <td>5563</td>\n",
       "      <td>1.45e-02</td>\n",
       "    </tr>\n",
       "    <tr>\n",
       "      <th>5</th>\n",
       "      <td>2017</td>\n",
       "      <td>395130</td>\n",
       "      <td>4589</td>\n",
       "      <td>1.18e-02</td>\n",
       "    </tr>\n",
       "    <tr>\n",
       "      <th>4</th>\n",
       "      <td>2018</td>\n",
       "      <td>398780</td>\n",
       "      <td>3650</td>\n",
       "      <td>9.20e-03</td>\n",
       "    </tr>\n",
       "    <tr>\n",
       "      <th>3</th>\n",
       "      <td>2019</td>\n",
       "      <td>402022</td>\n",
       "      <td>3242</td>\n",
       "      <td>8.10e-03</td>\n",
       "    </tr>\n",
       "    <tr>\n",
       "      <th>2</th>\n",
       "      <td>2020</td>\n",
       "      <td>405264</td>\n",
       "      <td>3242</td>\n",
       "      <td>8.10e-03</td>\n",
       "    </tr>\n",
       "    <tr>\n",
       "      <th>1</th>\n",
       "      <td>2021</td>\n",
       "      <td>408506</td>\n",
       "      <td>3242</td>\n",
       "      <td>8.00e-03</td>\n",
       "    </tr>\n",
       "    <tr>\n",
       "      <th>0</th>\n",
       "      <td>2022</td>\n",
       "      <td>411748</td>\n",
       "      <td>3242</td>\n",
       "      <td>7.90e-03</td>\n",
       "    </tr>\n",
       "  </tbody>\n",
       "</table>\n",
       "</div>"
      ],
      "text/plain": [
       "    Year  Population  Growth  GrowthRate\n",
       "31  1810        3505       0    0.00e+00\n",
       "30  1820        3970     465    1.33e-01\n",
       "29  1830        4320     350    8.82e-02\n",
       "28  1840        7911    3591    8.31e-01\n",
       "27  1850       11454    3543    4.48e-01\n",
       "26  1860       16523    5069    4.43e-01\n",
       "25  1870       21304    4781    2.89e-01\n",
       "24  1880       23065    1761    8.27e-02\n",
       "23  1890       22977     -88   -3.80e-03\n",
       "22  1900       24474    1497    6.52e-02\n",
       "21  1910       24695     221    9.00e-03\n",
       "20  1920       22828   -1867   -7.56e-02\n",
       "19  1930       24354    1526    6.68e-02\n",
       "18  1940       25562    1208    4.96e-02\n",
       "17  1950       29834    4272    1.67e-01\n",
       "16  1960       52970   23136    7.75e-01\n",
       "15  1970       92954   39984    7.55e-01\n",
       "14  1980      144107   51153    5.50e-01\n",
       "13  1990      212907   68800    4.77e-01\n",
       "12  2010      361803  148896    6.99e-01\n",
       "11  2011      365582    3779    1.04e-02\n",
       "10  2012      369111    3529    9.70e-03\n",
       "9   2013      374288    5177    1.40e-02\n",
       "8   2014      379844    5556    1.48e-02\n",
       "7   2015      384978    5134    1.35e-02\n",
       "6   2016      390541    5563    1.45e-02\n",
       "5   2017      395130    4589    1.18e-02\n",
       "4   2018      398780    3650    9.20e-03\n",
       "3   2019      402022    3242    8.10e-03\n",
       "2   2020      405264    3242    8.10e-03\n",
       "1   2021      408506    3242    8.00e-03\n",
       "0   2022      411748    3242    7.90e-03"
      ]
     },
     "execution_count": 5,
     "metadata": {},
     "output_type": "execute_result"
    }
   ],
   "source": [
    "Stcr"
   ]
  },
  {
   "cell_type": "code",
   "execution_count": 6,
   "id": "c92338ab-79fd-4c94-a853-52eedffa5cb1",
   "metadata": {},
   "outputs": [
    {
     "data": {
      "text/html": [
       "<div>\n",
       "<style scoped>\n",
       "    .dataframe tbody tr th:only-of-type {\n",
       "        vertical-align: middle;\n",
       "    }\n",
       "\n",
       "    .dataframe tbody tr th {\n",
       "        vertical-align: top;\n",
       "    }\n",
       "\n",
       "    .dataframe thead th {\n",
       "        text-align: right;\n",
       "    }\n",
       "</style>\n",
       "<table border=\"1\" class=\"dataframe\">\n",
       "  <thead>\n",
       "    <tr style=\"text-align: right;\">\n",
       "      <th></th>\n",
       "      <th>Year</th>\n",
       "      <th>Population</th>\n",
       "      <th>Growth</th>\n",
       "      <th>GrowthRate</th>\n",
       "    </tr>\n",
       "  </thead>\n",
       "  <tbody>\n",
       "    <tr>\n",
       "      <th>count</th>\n",
       "      <td>32.00</td>\n",
       "      <td>32.00</td>\n",
       "      <td>32.00</td>\n",
       "      <td>3.20e+01</td>\n",
       "    </tr>\n",
       "    <tr>\n",
       "      <th>mean</th>\n",
       "      <td>1947.12</td>\n",
       "      <td>181790.97</td>\n",
       "      <td>12757.59</td>\n",
       "      <td>1.87e-01</td>\n",
       "    </tr>\n",
       "    <tr>\n",
       "      <th>std</th>\n",
       "      <td>72.08</td>\n",
       "      <td>178635.23</td>\n",
       "      <td>29385.80</td>\n",
       "      <td>2.74e-01</td>\n",
       "    </tr>\n",
       "    <tr>\n",
       "      <th>min</th>\n",
       "      <td>1810.00</td>\n",
       "      <td>3505.00</td>\n",
       "      <td>-1867.00</td>\n",
       "      <td>-7.56e-02</td>\n",
       "    </tr>\n",
       "    <tr>\n",
       "      <th>25%</th>\n",
       "      <td>1887.50</td>\n",
       "      <td>22939.75</td>\n",
       "      <td>1518.75</td>\n",
       "      <td>9.15e-03</td>\n",
       "    </tr>\n",
       "    <tr>\n",
       "      <th>50%</th>\n",
       "      <td>1965.00</td>\n",
       "      <td>72962.00</td>\n",
       "      <td>3567.00</td>\n",
       "      <td>3.22e-02</td>\n",
       "    </tr>\n",
       "    <tr>\n",
       "      <th>75%</th>\n",
       "      <td>2014.25</td>\n",
       "      <td>381127.50</td>\n",
       "      <td>5144.75</td>\n",
       "      <td>3.28e-01</td>\n",
       "    </tr>\n",
       "    <tr>\n",
       "      <th>max</th>\n",
       "      <td>2022.00</td>\n",
       "      <td>411748.00</td>\n",
       "      <td>148896.00</td>\n",
       "      <td>8.31e-01</td>\n",
       "    </tr>\n",
       "  </tbody>\n",
       "</table>\n",
       "</div>"
      ],
      "text/plain": [
       "          Year  Population     Growth  GrowthRate\n",
       "count    32.00       32.00      32.00    3.20e+01\n",
       "mean   1947.12   181790.97   12757.59    1.87e-01\n",
       "std      72.08   178635.23   29385.80    2.74e-01\n",
       "min    1810.00     3505.00   -1867.00   -7.56e-02\n",
       "25%    1887.50    22939.75    1518.75    9.15e-03\n",
       "50%    1965.00    72962.00    3567.00    3.22e-02\n",
       "75%    2014.25   381127.50    5144.75    3.28e-01\n",
       "max    2022.00   411748.00  148896.00    8.31e-01"
      ]
     },
     "execution_count": 6,
     "metadata": {},
     "output_type": "execute_result"
    }
   ],
   "source": [
    "Stcr.describe()"
   ]
  },
  {
   "cell_type": "code",
   "execution_count": 7,
   "id": "31320048-fc11-431a-91bc-26edf05822f5",
   "metadata": {},
   "outputs": [],
   "source": [
    "from scipy import stats"
   ]
  },
  {
   "cell_type": "code",
   "execution_count": 8,
   "id": "f747b279-c93c-4d77-bd13-d2b0dc82a8d5",
   "metadata": {},
   "outputs": [],
   "source": [
    "linear_regression = stats.linregress(x=Stc.Year, \n",
    "                                        y=Stc.Population)"
   ]
  },
  {
   "cell_type": "code",
   "execution_count": 9,
   "id": "cf9317a1-d9f8-4c3b-bec8-fb218c648aa6",
   "metadata": {},
   "outputs": [
    {
     "data": {
      "text/plain": [
       "2188.947590122046"
      ]
     },
     "execution_count": 9,
     "metadata": {},
     "output_type": "execute_result"
    }
   ],
   "source": [
    "linear_regression.slope"
   ]
  },
  {
   "cell_type": "code",
   "execution_count": 10,
   "id": "5948ea22-db8d-49aa-8700-0962f5ce816b",
   "metadata": {},
   "outputs": [
    {
     "data": {
      "text/plain": [
       "-4080363.607666389"
      ]
     },
     "execution_count": 10,
     "metadata": {},
     "output_type": "execute_result"
    }
   ],
   "source": [
    "linear_regression.intercept"
   ]
  },
  {
   "cell_type": "code",
   "execution_count": 11,
   "id": "50f58da3-42cc-42a8-860c-4b9c7a9bc373",
   "metadata": {},
   "outputs": [
    {
     "data": {
      "text/plain": [
       "516426"
      ]
     },
     "execution_count": 11,
     "metadata": {},
     "output_type": "execute_result"
    }
   ],
   "source": [
    "round(linear_regression.slope * 2100 +linear_regression.intercept) #population in 2100"
   ]
  },
  {
   "cell_type": "code",
   "execution_count": 12,
   "id": "7bbc232f-95c4-4ec3-8373-a6994747c348",
   "metadata": {},
   "outputs": [
    {
     "data": {
      "image/png": "[encoded data removed]",
      "text/plain": [
       "<Figure size 432x288 with 1 Axes>"
      ]
     },
     "metadata": {
      "needs_background": "light"
     },
     "output_type": "display_data"
    }
   ],
   "source": [
    "import matplotlib.pyplot as plt\n",
    "\n",
    "plt.plot(Stc.Year,Stc.Population)\n",
    "plt.title('Stc population 1810 to 2022')\n",
    "plt.xlabel('Year')\n",
    "plt.ylabel('Population')\n",
    "plt.show()"
   ]
  },
  {
   "cell_type": "code",
   "execution_count": 13,
   "id": "c0617445-f113-4285-9588-4daf7a543b06",
   "metadata": {},
   "outputs": [],
   "source": [
    "#Mike Abbinante"
   ]
  }
 ],
 "metadata": {
  "kernelspec": {
   "display_name": "Python 3 (ipykernel)",
   "language": "python",
   "name": "python3"
  },
  "language_info": {
   "codemirror_mode": {
    "name": "ipython",
    "version": 3
   },
   "file_extension": ".py",
   "mimetype": "text/x-python",
   "name": "python",
   "nbconvert_exporter": "python",
   "pygments_lexer": "ipython3",
   "version": "3.9.12"
  }
 },
 "nbformat": 4,
 "nbformat_minor": 5
}
